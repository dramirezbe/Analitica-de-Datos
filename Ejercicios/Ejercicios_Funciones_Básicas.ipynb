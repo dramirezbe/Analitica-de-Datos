{
  "nbformat": 4,
  "nbformat_minor": 0,
  "metadata": {
    "colab": {
      "provenance": [],
      "authorship_tag": "ABX9TyMYcesiBcYNRoBNTi72hgBg",
      "include_colab_link": true
    },
    "kernelspec": {
      "name": "python3",
      "display_name": "Python 3"
    },
    "language_info": {
      "name": "python"
    }
  },
  "cells": [
    {
      "cell_type": "markdown",
      "metadata": {
        "id": "view-in-github",
        "colab_type": "text"
      },
      "source": [
        "<a href=\"https://colab.research.google.com/github/dramirezbe/Analitica-de-Datos/blob/main/Ejercicios/Ejercicios_Funciones_B%C3%A1sicas.ipynb\" target=\"_parent\"><img src=\"https://colab.research.google.com/assets/colab-badge.svg\" alt=\"Open In Colab\"/></a>"
      ]
    },
    {
      "cell_type": "markdown",
      "source": [
        "# Ejercicios (Operaciones con Funciones básicas)"
      ],
      "metadata": {
        "id": "aQmoGTXzalN5"
      }
    },
    {
      "cell_type": "markdown",
      "source": [
        "##Ejercicio 1\n",
        "\n",
        "**Ejercicio 1: Generar funciones básicas**\n",
        "\n",
        "Genera un vector de tiempo $t$ de -10 a 10 con pasos de 0.01.\n",
        "\n",
        "Crea y grafica:\n",
        "\n",
        "- Una señal escalón unitario $10 \\cdot u(t)$\n",
        "- Una función $rect(\\frac{t}{\\tau})$ con $\\tau = 3$\n",
        "- Una exponencial decreciente $e^{-t} \\cdot u(t)$\n",
        "- Una suma de señales sinusoidales con frecuencia $f = [1,5,3] Hz$"
      ],
      "metadata": {
        "id": "FRXY0Cm_apNv"
      }
    },
    {
      "cell_type": "code",
      "source": [],
      "metadata": {
        "id": "hhHQA3nIcf55"
      },
      "execution_count": null,
      "outputs": []
    },
    {
      "cell_type": "markdown",
      "source": [
        "## Ejercicio 2\n",
        "\n",
        "Simula el delta de Dirac como un pico muy estrecho usando\n",
        "\n",
        "$$\n",
        "\\delta(t) \\approx \\text{rect}\\left(\\frac{t}{\\tau}\\right)\n",
        "$$\n",
        "\n",
        "con $\\tau = 0.001$\n"
      ],
      "metadata": {
        "id": "KOOGzEIuczCS"
      }
    },
    {
      "cell_type": "code",
      "source": [],
      "metadata": {
        "id": "LiKJg3TLeNs4"
      },
      "execution_count": null,
      "outputs": []
    },
    {
      "cell_type": "markdown",
      "source": [
        "### Ejercicio 3\n",
        "\n",
        "Simula esta función:\n",
        "\n",
        "$$\n",
        "f(t) = 5 \\cdot u(-t+\\pi) + \\sin(\\omega t + \\Phi) \\cdot e^{-t/2}\n",
        "$$\n",
        "\n",
        "Donde:\n",
        "- Frecuencia = 10 Hz\n",
        "- La fase $\\Phi$ = $2\\pi$\n",
        "- Frecuencia de muestreo de 1000 Hz\n",
        "- Con intervalo de -5 seg a 5 seg"
      ],
      "metadata": {
        "id": "KezRu1Npt6Kp"
      }
    },
    {
      "cell_type": "code",
      "source": [],
      "metadata": {
        "id": "wO3RWlJ-cqFJ"
      },
      "execution_count": null,
      "outputs": []
    },
    {
      "cell_type": "markdown",
      "source": [
        "## Ejercicio 4\n",
        "\n",
        "Genera una escalera en el que cada escalón sea $\\tau = 1$ con una amplitud de 2\n",
        "- No utilizar funciones todavía\n",
        "- Genera 20 escalones"
      ],
      "metadata": {
        "id": "UJyHb1U0gKss"
      }
    },
    {
      "cell_type": "code",
      "source": [],
      "metadata": {
        "id": "4kSbgi4igc53"
      },
      "execution_count": 1,
      "outputs": []
    }
  ]
}