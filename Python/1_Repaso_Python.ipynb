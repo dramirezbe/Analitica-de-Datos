{
 "cells": [
  {
   "cell_type": "markdown",
   "metadata": {
    "id": "view-in-github"
   },
   "source": [
    "<a href=\"https://colab.research.google.com/github/juccaicedoac03/Data_Science_Course/blob/main/1_Introduction/Usefull_Libraries.ipynb\" target=\"_parent\"><img src=\"https://colab.research.google.com/assets/colab-badge.svg\" alt=\"Open In Colab\"/></a>"
   ]
  },
  {
   "cell_type": "markdown",
   "metadata": {
    "id": "yRcJwPXeB_ns"
   },
   "source": [
    "# Numpy"
   ]
  },
  {
   "cell_type": "code",
   "execution_count": 1,
   "metadata": {
    "id": "kSQhEgqaBw1n"
   },
   "outputs": [],
   "source": [
    "import numpy as np"
   ]
  },
  {
   "cell_type": "markdown",
   "metadata": {
    "id": "iERHKD-XCRqX"
   },
   "source": [
    "## Lists vs Arrays"
   ]
  },
  {
   "cell_type": "markdown",
   "metadata": {
    "id": "umKEtTyYLpdR"
   },
   "source": [
    "### Lists"
   ]
  },
  {
   "cell_type": "markdown",
   "metadata": {
    "id": "XP3MrhFCHY1-"
   },
   "source": [
    "Elements of a list can be of multiple type"
   ]
  },
  {
   "cell_type": "code",
   "execution_count": 2,
   "metadata": {
    "id": "EYDl0XqUCDMH"
   },
   "outputs": [
    {
     "name": "stdout",
     "output_type": "stream",
     "text": [
      "List: [10, 4.2, 'Text']  Length: 3  Type: <class 'list'>\n",
      " Element: 10, Type: <class 'int'>\n",
      " Element: 4.2, Type: <class 'float'>\n",
      " Element: Text, Type: <class 'str'>\n"
     ]
    }
   ],
   "source": [
    "list1 = [10, 4.2, 'Text'] # multiple types elements\n",
    "print('List: {}  Length: {}  Type: {}'.format(list1, len(list1), type(list1)))\n",
    "\n",
    "for elem in list1: # traversing list: elem take each list1 element alogn length of the list\n",
    "    print(' Element: {}, Type: {}'.format(elem,type(elem)))\n"
   ]
  },
  {
   "cell_type": "markdown",
   "metadata": {
    "id": "wYQI_0T_Inn3"
   },
   "source": [
    "List is afected by python native functions and classes such as: len, range, etc"
   ]
  },
  {
   "cell_type": "code",
   "execution_count": null,
   "metadata": {
    "id": "hdRuWmBUV6uH"
   },
   "outputs": [],
   "source": []
  },
  {
   "cell_type": "code",
   "execution_count": null,
   "metadata": {
    "id": "eoBh6bHBHMgp"
   },
   "outputs": [],
   "source": [
    "for elem in range(len(list1)): # traversing list: using indexing \"list[position]\"\n",
    "    print('Element: {}, Type: {}'.format(list1[elem],type(list1[elem])))"
   ]
  },
  {
   "cell_type": "code",
   "execution_count": null,
   "metadata": {
    "id": "KCljsTAmV7ix"
   },
   "outputs": [],
   "source": [
    "range(len(list1))"
   ]
  },
  {
   "cell_type": "markdown",
   "metadata": {
    "id": "dmDANkJvMTw0"
   },
   "source": [
    "list indexing depends on number of elements and number of sublists"
   ]
  },
  {
   "cell_type": "code",
   "execution_count": null,
   "metadata": {
    "id": "WsJtaMyOMp-8"
   },
   "outputs": [],
   "source": [
    "list2 = [[1,2,3,4], [1.,2.,3.,4.],['one','two','three','four']]\n",
    "\n",
    "print('Length of list: {}'.format(len(list2)))\n",
    "\n",
    "for sublist in list2:\n",
    "    print(' Sublist: {}  Length: {}'.format(sublist, len(sublist)))\n",
    "    for elem in sublist:\n",
    "        print('  Elem: {}  Type: {}'.format(elem,type(elem)))"
   ]
  },
  {
   "cell_type": "markdown",
   "metadata": {
    "id": "Z6bUsu1deCnp"
   },
   "source": [
    "list2 is a list of lists"
   ]
  },
  {
   "cell_type": "code",
   "execution_count": null,
   "metadata": {
    "id": "aVrYDnhMd66P"
   },
   "outputs": [],
   "source": [
    "print(list2)"
   ]
  },
  {
   "cell_type": "markdown",
   "metadata": {
    "id": "9b4vzc3EgzkL"
   },
   "source": [
    "Lists in python can be indexing using intervals.\n",
    "\n",
    "NOTE: First position in Python is 0 and de last is n-1, with n <= lenght of list"
   ]
  },
  {
   "cell_type": "code",
   "execution_count": null,
   "metadata": {
    "id": "H9goWekugYQU"
   },
   "outputs": [],
   "source": [
    "print(list2[2:])\n",
    "print(list2[2])\n",
    "print(list2[0][1:3])"
   ]
  },
  {
   "cell_type": "markdown",
   "metadata": {
    "id": "MYQqwu2BOJ3L"
   },
   "source": [
    "**Exercise:** complete next code cell to obtain the sublist **[3.0, 4.0] (float)** from list2"
   ]
  },
  {
   "cell_type": "code",
   "execution_count": null,
   "metadata": {
    "id": "ode9rOazkjuq"
   },
   "outputs": [],
   "source": [
    "print('Sublist: {}'.format(list2[1][2:] ))"
   ]
  },
  {
   "cell_type": "markdown",
   "metadata": {
    "id": "KRyaX6FxPWfE"
   },
   "source": [
    "**Exercise:** traverse list2 using list indexing"
   ]
  },
  {
   "cell_type": "code",
   "execution_count": null,
   "metadata": {
    "id": "P_0f8m5EPlyw"
   },
   "outputs": [],
   "source": []
  },
  {
   "cell_type": "markdown",
   "metadata": {
    "id": "l32f_Z94sKmv"
   },
   "source": [
    "***Important information:*** [Python list methods](https://docs.python.org/3/tutorial/datastructures.html)"
   ]
  },
  {
   "cell_type": "markdown",
   "metadata": {
    "id": "-cQ6oLtQLuh0"
   },
   "source": [
    "### Arrays"
   ]
  },
  {
   "cell_type": "markdown",
   "metadata": {
    "id": "96i2pjZyHtpt"
   },
   "source": [
    "Elements of an array must be of the same type"
   ]
  },
  {
   "cell_type": "code",
   "execution_count": null,
   "metadata": {
    "id": "W5NVXyqZDFch"
   },
   "outputs": [],
   "source": [
    "array1 = np.array(list1) # multiple elements with the same type\n",
    "print('Array: {}  Shape: {}  Type: {}'.format(array1, array1.shape, type(array1)))\n",
    "\n",
    "for elem in array1: # traversing array: elem take each array1 element alogn an axis of the array\n",
    "    print('Element: {}, Type: {}'.format(elem,type(elem)))"
   ]
  },
  {
   "cell_type": "markdown",
   "metadata": {
    "id": "IZM7En6RJdOb"
   },
   "source": [
    "Arrays inherit attributes from [numpy N-dimensional array base class](https://numpy.org/doc/stable/reference/arrays.ndarray.html) like: shape."
   ]
  },
  {
   "cell_type": "code",
   "execution_count": null,
   "metadata": {
    "id": "hK6EFRyXYtMo"
   },
   "outputs": [],
   "source": [
    "array1.shape[0]"
   ]
  },
  {
   "cell_type": "code",
   "execution_count": null,
   "metadata": {
    "id": "h72L1cObJFiV"
   },
   "outputs": [],
   "source": [
    "for elem in range(array1.shape[0]): # traversing array: using indexing \"array[position_axis0, position_axis1, ...]\"\n",
    "    print('Element: {}, Type: {}'.format(array1[elem],type(array1[elem])))"
   ]
  },
  {
   "cell_type": "markdown",
   "metadata": {
    "id": "GxitumqrQfcZ"
   },
   "source": [
    "Array indexing depends on number of elements and the number of axis"
   ]
  },
  {
   "cell_type": "code",
   "execution_count": null,
   "metadata": {
    "id": "9Xc41L4LJYjz"
   },
   "outputs": [],
   "source": [
    "array2 = np.array([[1,2,3,4], [5,6,7,8],[9,10,11,12]])\n",
    "\n",
    "print('Shape of array: {}'.format(array2.shape))\n",
    "\n",
    "#for elem_ax0 in range(array2.shape[0]):\n",
    "#    for elem_ax1 in range(array2.shape[1]):\n",
    "#        print('Axis0 pos: {}  Axis1 pos: {}  Element: {}'.format(elem_ax0,elem_ax1,array2[elem_ax0,elem_ax1]))"
   ]
  },
  {
   "cell_type": "markdown",
   "metadata": {
    "id": "U4vVznzaemy0"
   },
   "source": [
    "array2 can be seen as a matrix of 3 rows and 4 columns"
   ]
  },
  {
   "cell_type": "code",
   "execution_count": null,
   "metadata": {
    "id": "S2isK1pARU1F"
   },
   "outputs": [],
   "source": [
    "print('Rows: {}  Columns:  {} \\n'.format(array2.shape[0],array2.shape[1]))\n",
    "print(array2)"
   ]
  },
  {
   "cell_type": "markdown",
   "metadata": {
    "id": "xBz5Hb3PiGli"
   },
   "source": [
    "Array indexing is similar to list indexing, taking acount the axis: **array[position_axis0, position_axis1, ...]**"
   ]
  },
  {
   "cell_type": "code",
   "execution_count": null,
   "metadata": {
    "id": "9vlnrtG4fOcg"
   },
   "outputs": [],
   "source": [
    "print(array2[1,1:3])\n",
    "print(array2[0,3])\n",
    "print(array2[-1,:])\n",
    "print(array2[2,-4:-1])"
   ]
  },
  {
   "cell_type": "markdown",
   "metadata": {
    "id": "8Nqg7iDajJqp"
   },
   "source": [
    "**Exercise:** complete netx code celL to obtain the subarray: [7,11]"
   ]
  },
  {
   "cell_type": "code",
   "execution_count": null,
   "metadata": {
    "id": "0sbD-KBZir9t"
   },
   "outputs": [],
   "source": [
    "list3 = [array2[1,2],array2[2,1]]\n",
    "print('Subarray: {}'.format(list3))"
   ]
  },
  {
   "cell_type": "markdown",
   "metadata": {
    "id": "403DGrN8ksu8"
   },
   "source": [
    "**Exercise:** write a code that show all elements of each columns in array2 as sub-arrays\n",
    "\n",
    "Output:\n",
    "\n",
    "*   Iter 0: [1, 5, 9]\n",
    "*   Iter 1: [2, 6, 10]\n",
    "*   Iter 2: [3, 7, 11]\n",
    "*   Iter 3: [4, 8, 12]\n",
    "\n"
   ]
  },
  {
   "cell_type": "code",
   "execution_count": null,
   "metadata": {
    "id": "yOLggwx_ksbE"
   },
   "outputs": [],
   "source": []
  },
  {
   "cell_type": "markdown",
   "metadata": {
    "id": "CMxmymHdpDzW"
   },
   "source": [
    "Some Numpy functionalities"
   ]
  },
  {
   "cell_type": "code",
   "execution_count": null,
   "metadata": {
    "id": "PQgGa1_NpG_S"
   },
   "outputs": [],
   "source": [
    "print('Mean: {}\\n'.format(array2.mean(axis=-1))) # function np.mean can be used as attribute\n",
    "print('Median: {}\\n'.format(np.median(array2))) # total mean use first array.ravel()\n",
    "print('Eigen values and eigen vectors:\\n {}\\n'.format(np.linalg.eig(array2[:,0:3])))\n",
    "print('Trace: {}\\n'.format(np.trace(array2[:,0:3])))\n",
    "print('Transpose: \\n{}\\n'.format(array2.T))\n",
    "print('Random arrays: \\n{}'.format(np.random.randn(1,10)))"
   ]
  },
  {
   "cell_type": "markdown",
   "metadata": {
    "id": "CD1nMc1bsmJC"
   },
   "source": [
    "**Exercise:** write a code to transpose the matrix from lists without use ***np.transpose()*** or ***array.T***"
   ]
  },
  {
   "cell_type": "code",
   "execution_count": null,
   "metadata": {
    "id": "SwDB-FXBqZU1"
   },
   "outputs": [],
   "source": [
    "# Input\n",
    "list3 = [[1,2,3],[4,5,6],[7,8,9]]\n",
    "\n",
    "# Write code here:\n",
    "\n",
    "\n",
    "######################\n",
    "\n",
    "print('Input: \\n{}\\n'.format(list3))\n",
    "print('Output: \\n{}\\n'.format(list(map(list,np.transpose(list3)))))\n",
    "\n",
    "# complete the code here\n",
    "print('Your Output: \\n{}'.format( ))"
   ]
  },
  {
   "cell_type": "markdown",
   "metadata": {
    "id": "1Ji54Fjl74yr"
   },
   "source": [
    "See complete documentation [here.](https://numpy.org)"
   ]
  },
  {
   "cell_type": "markdown",
   "metadata": {
    "id": "MGbPCVDxwL6z"
   },
   "source": [
    "# Matplotlib"
   ]
  },
  {
   "cell_type": "code",
   "execution_count": null,
   "metadata": {
    "id": "7LAyspKityHN"
   },
   "outputs": [],
   "source": [
    "import numpy as np\n",
    "import matplotlib.pyplot as plt"
   ]
  },
  {
   "cell_type": "code",
   "execution_count": null,
   "metadata": {
    "id": "TkGOo0V1wYsi"
   },
   "outputs": [],
   "source": [
    "y = np.random.randn(20,100)\n",
    "x = np.arange(y.shape[-1])"
   ]
  },
  {
   "cell_type": "code",
   "execution_count": null,
   "metadata": {
    "id": "5ZpsTSiaeiwc"
   },
   "outputs": [],
   "source": [
    "y.shape, x.shape"
   ]
  },
  {
   "cell_type": "code",
   "execution_count": null,
   "metadata": {
    "id": "c7r0Qpetxkl5"
   },
   "outputs": [],
   "source": [
    "plt.figure(figsize=(20,5))\n",
    "plt.title('Figure 1')\n",
    "plt.plot(y[0:2,:].T,label='label 1')\n",
    "plt.plot(y[6:8,:].T,label='label 2')\n",
    "plt.xticks(np.arange(y.shape[-1]),x+1, rotation = 90)\n",
    "plt.legend()\n",
    "plt.grid(True)\n",
    "plt.show()"
   ]
  },
  {
   "cell_type": "code",
   "execution_count": null,
   "metadata": {
    "id": "u4fT4YjMxlIs"
   },
   "outputs": [],
   "source": [
    "plt.figure(figsize=(20,5))\n",
    "plt.title('Figure 2')\n",
    "plt.bar(x, np.abs(y[10,:].T), width=1, edgecolor=\"white\", linewidth=0.7, label = 'Label 1')\n",
    "plt.xticks(np.arange(y.shape[-1]),x+1, rotation = 90)\n",
    "plt.legend()\n",
    "plt.grid(True)\n",
    "plt.show()"
   ]
  },
  {
   "cell_type": "code",
   "execution_count": null,
   "metadata": {
    "id": "r9G5sOTD04fT"
   },
   "outputs": [],
   "source": [
    "plt.figure(figsize=(15,5))\n",
    "plt.subplot(1,2,1)\n",
    "plt.title('Figure 3')\n",
    "plt.scatter(y[12,:],y[13,:])\n",
    "\n",
    "plt.subplot(1,2,2)\n",
    "plt.title('Figure 4')\n",
    "plt.scatter(y[16,:],y[17,:], label= 'Label 1')\n",
    "plt.scatter(y[18,:],y[19,:], label= 'Label 2')\n",
    "plt.legend()\n",
    "\n",
    "plt.show()"
   ]
  },
  {
   "cell_type": "markdown",
   "metadata": {
    "id": "HFRHmC505pXE"
   },
   "source": [
    "See complete documentation [here.](https://matplotlib.org)\n"
   ]
  },
  {
   "cell_type": "markdown",
   "metadata": {
    "id": "vUqfS5Zz6x9H"
   },
   "source": [
    "# Pandas"
   ]
  },
  {
   "cell_type": "code",
   "execution_count": null,
   "metadata": {
    "id": "9ytdpVBr4N1W"
   },
   "outputs": [],
   "source": [
    "import numpy as np\n",
    "import pandas as pd"
   ]
  },
  {
   "cell_type": "code",
   "execution_count": null,
   "metadata": {
    "id": "y0HH-PGB6-R-"
   },
   "outputs": [],
   "source": [
    "dict1 = dict([('Edad',np.arange(10)),('Cant fav',2*np.arange(10)),('Estrato',(3*np.arange(10)).astype(str))])"
   ]
  },
  {
   "cell_type": "code",
   "execution_count": null,
   "metadata": {
    "id": "NX65LFO59Mv4"
   },
   "outputs": [],
   "source": [
    "print(dict1)"
   ]
  },
  {
   "cell_type": "code",
   "execution_count": null,
   "metadata": {
    "id": "OvxLxv6T9ADY"
   },
   "outputs": [],
   "source": [
    "df1 = pd.DataFrame(dict1)"
   ]
  },
  {
   "cell_type": "code",
   "execution_count": null,
   "metadata": {
    "id": "qzcmr_1B_BnR"
   },
   "outputs": [],
   "source": [
    "df1"
   ]
  },
  {
   "cell_type": "markdown",
   "metadata": {
    "id": "G4iGyQW6-59x"
   },
   "source": [
    "## DataFrame"
   ]
  },
  {
   "cell_type": "code",
   "execution_count": null,
   "metadata": {
    "id": "8i-qWccq9C2c"
   },
   "outputs": [],
   "source": [
    "df1.index[0] # row index"
   ]
  },
  {
   "cell_type": "markdown",
   "metadata": {
    "id": "WCx_KC0z_l7D"
   },
   "source": [
    "Use lists to indexing DataFrame by rows (index) and columns (keys)"
   ]
  },
  {
   "cell_type": "code",
   "execution_count": null,
   "metadata": {
    "id": "N-75Yf_5_H68"
   },
   "outputs": [],
   "source": [
    "df1.loc[[1,4,6],['Edad','Estrato']]"
   ]
  },
  {
   "cell_type": "code",
   "execution_count": null,
   "metadata": {
    "id": "GZrELFDn_hnR"
   },
   "outputs": [],
   "source": [
    "df1.loc[df1.index[[0,2,4]]] # by rows"
   ]
  },
  {
   "cell_type": "code",
   "execution_count": null,
   "metadata": {
    "id": "aEI5iEoqAgi0"
   },
   "outputs": [],
   "source": [
    "df1[df1.columns[0:2]] # by columns"
   ]
  },
  {
   "cell_type": "markdown",
   "metadata": {
    "id": "FQzCU5UXA8Gt"
   },
   "source": [
    "***iloc*** allows indexing like Numpy"
   ]
  },
  {
   "cell_type": "code",
   "execution_count": null,
   "metadata": {
    "id": "iySok0bbAqTB"
   },
   "outputs": [],
   "source": [
    "df1.iloc[0:5,1::]"
   ]
  },
  {
   "cell_type": "markdown",
   "metadata": {
    "id": "DwDwH9P8BW6X"
   },
   "source": [
    "Transform DataFrame to Numpy"
   ]
  },
  {
   "cell_type": "code",
   "execution_count": null,
   "metadata": {
    "id": "7hdPwEAxBMTE"
   },
   "outputs": [],
   "source": [
    "df1.to_numpy()"
   ]
  },
  {
   "cell_type": "markdown",
   "metadata": {
    "id": "1PaDugntBw2S"
   },
   "source": [
    "Basic statistic analysis"
   ]
  },
  {
   "cell_type": "code",
   "execution_count": null,
   "metadata": {
    "id": "ZZ44aldXBeQs"
   },
   "outputs": [],
   "source": [
    "df1['Estrato'].describe()"
   ]
  },
  {
   "cell_type": "markdown",
   "metadata": {
    "id": "7bEIxxdGB5vy"
   },
   "source": [
    "See complete documentation [here.](https://pandas.pydata.org)"
   ]
  },
  {
   "cell_type": "markdown",
   "metadata": {
    "id": "14wxMBNLCUlB"
   },
   "source": [
    "# Other usefull libraries"
   ]
  },
  {
   "cell_type": "markdown",
   "metadata": {
    "id": "gHWBWVbOCZYz"
   },
   "source": [
    "\n",
    "\n",
    "*   [Seaborn](https://seaborn.pydata.org): Graphics.\n",
    "*   [Scipy](https://scipy.org): Statistics.\n",
    "*   [Sklearn](https://scikit-learn.org/stable/): Machine learning.\n",
    "*   [Tensorflow](https://www.tensorflow.org): Deep learning.\n",
    "*   [Pytorch](https://pytorch.org): Deep learning.\n",
    "\n"
   ]
  }
 ],
 "metadata": {
  "colab": {
   "provenance": []
  },
  "kernelspec": {
   "display_name": "Python 3",
   "name": "python3"
  },
  "language_info": {
   "codemirror_mode": {
    "name": "ipython",
    "version": 3
   },
   "file_extension": ".py",
   "mimetype": "text/x-python",
   "name": "python",
   "nbconvert_exporter": "python",
   "pygments_lexer": "ipython3",
   "version": "3.8.10"
  }
 },
 "nbformat": 4,
 "nbformat_minor": 0
}
